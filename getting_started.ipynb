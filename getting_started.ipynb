{
  "nbformat": 4,
  "nbformat_minor": 0,
  "metadata": {
    "colab": {
      "name": "Untitled3.ipynb",
      "provenance": [],
      "collapsed_sections": [],
      "toc_visible": true,
      "authorship_tag": "ABX9TyPVlCMwECfzI2BmXg0uT7on",
      "include_colab_link": true
    },
    "kernelspec": {
      "name": "python3",
      "display_name": "Python 3"
    }
  },
  "cells": [
    {
      "cell_type": "markdown",
      "metadata": {
        "id": "view-in-github",
        "colab_type": "text"
      },
      "source": [
        "<a href=\"https://colab.research.google.com/github/koya-ken/python-example/blob/master/getting_started.ipynb\" target=\"_parent\"><img src=\"https://colab.research.google.com/assets/colab-badge.svg\" alt=\"Open In Colab\"/></a>"
      ]
    },
    {
      "cell_type": "markdown",
      "metadata": {
        "id": "y3zge9oN0DZK",
        "colab_type": "text"
      },
      "source": [
        "# クラスの作成\n"
      ]
    },
    {
      "cell_type": "code",
      "metadata": {
        "id": "ejwvk_Ow0F9x",
        "colab_type": "code",
        "colab": {}
      },
      "source": [
        "class Sample:\n",
        "  CLASS_VARIABLE = \"CLASS_VARIABLE\"\n",
        "  def __init__(self):\n",
        "    super().__init__()"
      ],
      "execution_count": 0,
      "outputs": []
    },
    {
      "cell_type": "markdown",
      "metadata": {
        "id": "1Rx-kLQm0d-k",
        "colab_type": "text"
      },
      "source": [
        "クラス変数はインスタンスから参照できてしまう  \n",
        "インスタンス変数と混同しないように、クラス変数をインスタンスからアクセスしてはいけない\n"
      ]
    },
    {
      "cell_type": "code",
      "metadata": {
        "id": "b6GCU-yv0V7z",
        "colab_type": "code",
        "outputId": "5ef013ea-44e5-4567-9d46-fd735e8f45fe",
        "colab": {
          "base_uri": "https://localhost:8080/",
          "height": 34
        }
      },
      "source": [
        "s = Sample()\n",
        "# クラス変数にインスタンスからアクセスしてはいけない\n",
        "s.CLASS_VARIABLE"
      ],
      "execution_count": 0,
      "outputs": [
        {
          "output_type": "execute_result",
          "data": {
            "text/plain": [
              "'CLASS_VARIABLE'"
            ]
          },
          "metadata": {
            "tags": []
          },
          "execution_count": 3
        }
      ]
    },
    {
      "cell_type": "code",
      "metadata": {
        "id": "GHYGYZ210coR",
        "colab_type": "code",
        "outputId": "d0efad76-fefb-4dc6-efb4-2dd691774f9e",
        "colab": {
          "base_uri": "https://localhost:8080/",
          "height": 34
        }
      },
      "source": [
        "# クラス変数にはクラスからアクセスする\n",
        "Sample.CLASS_VARIABLE"
      ],
      "execution_count": 0,
      "outputs": [
        {
          "output_type": "execute_result",
          "data": {
            "text/plain": [
              "'CLASS_VARIABLE'"
            ]
          },
          "metadata": {
            "tags": []
          },
          "execution_count": 5
        }
      ]
    },
    {
      "cell_type": "code",
      "metadata": {
        "id": "x0doljI11RVc",
        "colab_type": "code",
        "colab": {}
      },
      "source": [
        ""
      ],
      "execution_count": 0,
      "outputs": []
    }
  ]
}